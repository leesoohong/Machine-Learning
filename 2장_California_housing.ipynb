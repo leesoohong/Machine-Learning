{
  "nbformat": 4,
  "nbformat_minor": 0,
  "metadata": {
    "colab": {
      "name": "2장_California housing ",
      "provenance": [],
      "collapsed_sections": [],
      "authorship_tag": "ABX9TyMOmZXaN3PSSrTN4XxG//Bp",
      "include_colab_link": true
    },
    "kernelspec": {
      "name": "python3",
      "display_name": "Python 3"
    }
  },
  "cells": [
    {
      "cell_type": "markdown",
      "metadata": {
        "id": "view-in-github",
        "colab_type": "text"
      },
      "source": [
        "<a href=\"https://colab.research.google.com/github/leesoohong/Machine-Learning/blob/Chapter2/2%EC%9E%A5_California_housing.ipynb\" target=\"_parent\"><img src=\"https://colab.research.google.com/assets/colab-badge.svg\" alt=\"Open In Colab\"/></a>"
      ]
    },
    {
      "cell_type": "code",
      "metadata": {
        "id": "ONMkAH5lRTN0",
        "colab_type": "code",
        "colab": {}
      },
      "source": [
        "from sklearn.linear_model import LinearRegression\n",
        "import pandas as pd\n",
        "import numpy as np\n",
        "from matplotlib import pyplot as plt"
      ],
      "execution_count": null,
      "outputs": []
    },
    {
      "cell_type": "code",
      "metadata": {
        "id": "cf5dYx-RRUL2",
        "colab_type": "code",
        "colab": {
          "base_uri": "https://localhost:8080/",
          "height": 281
        },
        "outputId": "d8719ac8-9008-4e8e-96c6-7abc1dd0ce6d"
      },
      "source": [
        "from sklearn.datasets import fetch_california_housing\n",
        "\n",
        "california = fetch_california_housing()\n",
        "X=california.data\n",
        "DF=pd.DataFrame(X,columns=california.feature_names)\n",
        "Y=california.target\n",
        "print(DF)"
      ],
      "execution_count": null,
      "outputs": [
        {
          "output_type": "stream",
          "text": [
            "Downloading Cal. housing from https://ndownloader.figshare.com/files/5976036 to /root/scikit_learn_data\n"
          ],
          "name": "stderr"
        },
        {
          "output_type": "stream",
          "text": [
            "       MedInc  HouseAge  AveRooms  ...  AveOccup  Latitude  Longitude\n",
            "0      8.3252      41.0  6.984127  ...  2.555556     37.88    -122.23\n",
            "1      8.3014      21.0  6.238137  ...  2.109842     37.86    -122.22\n",
            "2      7.2574      52.0  8.288136  ...  2.802260     37.85    -122.24\n",
            "3      5.6431      52.0  5.817352  ...  2.547945     37.85    -122.25\n",
            "4      3.8462      52.0  6.281853  ...  2.181467     37.85    -122.25\n",
            "...       ...       ...       ...  ...       ...       ...        ...\n",
            "20635  1.5603      25.0  5.045455  ...  2.560606     39.48    -121.09\n",
            "20636  2.5568      18.0  6.114035  ...  3.122807     39.49    -121.21\n",
            "20637  1.7000      17.0  5.205543  ...  2.325635     39.43    -121.22\n",
            "20638  1.8672      18.0  5.329513  ...  2.123209     39.43    -121.32\n",
            "20639  2.3886      16.0  5.254717  ...  2.616981     39.37    -121.24\n",
            "\n",
            "[20640 rows x 8 columns]\n"
          ],
          "name": "stdout"
        }
      ]
    },
    {
      "cell_type": "code",
      "metadata": {
        "id": "qDNZzVwvRVm-",
        "colab_type": "code",
        "colab": {
          "base_uri": "https://localhost:8080/",
          "height": 313
        },
        "outputId": "95903cd4-2a82-49da-f643-cf24c342179d"
      },
      "source": [
        "i=3\n",
        "plt.title(california.feature_names[i]+' & ' + 'target')\n",
        "plt.xlabel(california.feature_names[i])\n",
        "plt.ylabel('target')\n",
        "plt.scatter(DF[california.feature_names[i]],Y)\n",
        "plt.legend()\n",
        "plt.show()"
      ],
      "execution_count": null,
      "outputs": [
        {
          "output_type": "stream",
          "text": [
            "No handles with labels found to put in legend.\n"
          ],
          "name": "stderr"
        },
        {
          "output_type": "display_data",
          "data": {
            "image/png": "[encoded data removed]",
            "text/plain": [
              "<Figure size 432x288 with 1 Axes>"
            ]
          },
          "metadata": {
            "tags": [],
            "needs_background": "light"
          }
        }
      ]
    },
    {
      "cell_type": "code",
      "metadata": {
        "id": "oDbIwrQoRY5t",
        "colab_type": "code",
        "colab": {
          "base_uri": "https://localhost:8080/",
          "height": 105
        },
        "outputId": "4c23c7f3-620d-43ec-fc3f-8c988d9de50b"
      },
      "source": [
        "reg = LinearRegression()\n",
        "Model=reg.fit(X,Y)\n",
        "print(\"coef\")\n",
        "print(Model.coef_)\n",
        "print(\"intercept\")\n",
        "print(Model.intercept_)"
      ],
      "execution_count": null,
      "outputs": [
        {
          "output_type": "stream",
          "text": [
            "coef\n",
            "[ 4.36693293e-01  9.43577803e-03 -1.07322041e-01  6.45065694e-01\n",
            " -3.97638942e-06 -3.78654265e-03 -4.21314378e-01 -4.34513755e-01]\n",
            "intercept\n",
            "-36.94192020718441\n"
          ],
          "name": "stdout"
        }
      ]
    },
    {
      "cell_type": "code",
      "metadata": {
        "id": "Zvkm19xARaMs",
        "colab_type": "code",
        "colab": {
          "base_uri": "https://localhost:8080/",
          "height": 313
        },
        "outputId": "2121846e-dc10-4daf-b4bd-1ca77622e0a9"
      },
      "source": [
        "i=0\n",
        "plt.title(california.feature_names[i]+' & ' + 'target')\n",
        "plt.xlabel(california.feature_names[i])\n",
        "plt.ylabel('target')\n",
        "plt.scatter(DF[california.feature_names[i]],Y)\n",
        "plt.plot(DF[california.feature_names[i]],Model.coef_[i]*DF[california.feature_names[i]],'r-')\n",
        "plt.legend()\n",
        "plt.show()"
      ],
      "execution_count": null,
      "outputs": [
        {
          "output_type": "stream",
          "text": [
            "No handles with labels found to put in legend.\n"
          ],
          "name": "stderr"
        },
        {
          "output_type": "display_data",
          "data": {
            "image/png": "[encoded data removed]",
            "text/plain": [
              "<Figure size 432x288 with 1 Axes>"
            ]
          },
          "metadata": {
            "tags": [],
            "needs_background": "light"
          }
        }
      ]
    },
    {
      "cell_type": "code",
      "metadata": {
        "id": "5dLVFnmwRa_k",
        "colab_type": "code",
        "colab": {
          "base_uri": "https://localhost:8080/",
          "height": 175
        },
        "outputId": "1df8bb36-efb5-4e49-8dc9-c3cb3ba607a3"
      },
      "source": [
        "DF.mean()"
      ],
      "execution_count": null,
      "outputs": [
        {
          "output_type": "execute_result",
          "data": {
            "text/plain": [
              "MedInc           3.870671\n",
              "HouseAge        28.639486\n",
              "AveRooms         5.429000\n",
              "AveBedrms        1.096675\n",
              "Population    1425.476744\n",
              "AveOccup         3.070655\n",
              "Latitude        35.631861\n",
              "Longitude     -119.569704\n",
              "dtype: float64"
            ]
          },
          "metadata": {
            "tags": []
          },
          "execution_count": 6
        }
      ]
    },
    {
      "cell_type": "code",
      "metadata": {
        "id": "eBnn4IBBRb9l",
        "colab_type": "code",
        "colab": {
          "base_uri": "https://localhost:8080/",
          "height": 34
        },
        "outputId": "08fc74b4-0d0a-4820-d99b-8d4f8f24ea70"
      },
      "source": [
        "Model.predict([DF.mean()])"
      ],
      "execution_count": null,
      "outputs": [
        {
          "output_type": "execute_result",
          "data": {
            "text/plain": [
              "array([2.06855817])"
            ]
          },
          "metadata": {
            "tags": []
          },
          "execution_count": 7
        }
      ]
    }
  ]
}